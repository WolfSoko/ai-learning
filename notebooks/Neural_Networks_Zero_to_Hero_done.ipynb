{
  "nbformat": 4,
  "nbformat_minor": 0,
  "metadata": {
    "colab": {
      "provenance": [],
      "authorship_tag": "ABX9TyOUo4XvSn5vGlg4UOVeovu8",
      "include_colab_link": true
    },
    "kernelspec": {
      "name": "python3",
      "display_name": "Python 3"
    },
    "language_info": {
      "name": "python"
    }
  },
  "cells": [
    {
      "cell_type": "markdown",
      "metadata": {
        "id": "view-in-github",
        "colab_type": "text"
      },
      "source": [
        "<a href=\"https://colab.research.google.com/github/WolfSoko/ai-learning/blob/main/notebooks/Neural_Networks_Zero_to_Hero_done.ipynb\" target=\"_parent\"><img src=\"https://colab.research.google.com/assets/colab-badge.svg\" alt=\"Open In Colab\"/></a>"
      ]
    },
    {
      "cell_type": "code",
      "source": [
        "import math\n",
        "import random\n",
        "import numpy as np\n",
        "import matplotlib.pyplot as plt\n",
        "%matplotlib inline\n"
      ],
      "metadata": {
        "id": "L5dRzGyxmatD"
      },
      "execution_count": null,
      "outputs": []
    },
    {
      "cell_type": "code",
      "source": [
        "def f(x):\n",
        "  return 3*x**2 - 4*x + 5"
      ],
      "metadata": {
        "id": "mPcQ0oTLnfY2"
      },
      "execution_count": null,
      "outputs": []
    },
    {
      "cell_type": "code",
      "source": [
        "f(3.0)\n"
      ],
      "metadata": {
        "colab": {
          "base_uri": "https://localhost:8080/"
        },
        "id": "JTzosSRIoyJF",
        "outputId": "6de9a606-67d2-4619-9dbe-5deaa703c3ed"
      },
      "execution_count": null,
      "outputs": [
        {
          "output_type": "execute_result",
          "data": {
            "text/plain": [
              "20.0"
            ]
          },
          "metadata": {},
          "execution_count": 6
        }
      ]
    },
    {
      "cell_type": "code",
      "source": [
        "xs = np.arange(-5 , 5, 0.25)\n",
        "ys = f(xs)\n",
        "plt.plot(xs, ys)"
      ],
      "metadata": {
        "colab": {
          "base_uri": "https://localhost:8080/",
          "height": 282
        },
        "id": "ZiwqvZOEo0mz",
        "outputId": "1c492f4a-8872-4786-896e-cba66d6e813e"
      },
      "execution_count": null,
      "outputs": [
        {
          "output_type": "execute_result",
          "data": {
            "text/plain": [
              "[<matplotlib.lines.Line2D at 0x7f637c2659a0>]"
            ]
          },
          "metadata": {},
          "execution_count": 8
        },
        {
          "output_type": "display_data",
          "data": {
            "text/plain": [
              "<Figure size 432x288 with 1 Axes>"
            ],
            "image/png": "[encoded data removed]"
          },
          "metadata": {
            "needs_background": "light"
          }
        }
      ]
    },
    {
      "cell_type": "code",
      "source": [
        "h = 0.000001\n",
        "x = 2 / 3\n",
        "def d(x): return (f(x + h) - f(x)) / h\n",
        "f(x)\n",
        "d(x)\n",
        "\n",
        "\n",
        "\n",
        "\n"
      ],
      "metadata": {
        "colab": {
          "base_uri": "https://localhost:8080/"
        },
        "id": "KdJ5DExNpQI2",
        "outputId": "a3bff3d7-ce14-4a94-9277-0c0af6ef9baa"
      },
      "execution_count": null,
      "outputs": [
        {
          "output_type": "execute_result",
          "data": {
            "text/plain": [
              "2.999378523327323e-06"
            ]
          },
          "metadata": {},
          "execution_count": 25
        }
      ]
    },
    {
      "cell_type": "code",
      "source": [
        "# lets get more complex\n",
        "a = 2.0\n",
        "b = -3.0\n",
        "c = 10.0\n",
        "d = a * b + c\n",
        "print(d)\n"
      ],
      "metadata": {
        "colab": {
          "base_uri": "https://localhost:8080/"
        },
        "id": "rlaGGFPYq3P5",
        "outputId": "7d71b1a0-d925-4fb5-80a1-53d54800da23"
      },
      "execution_count": null,
      "outputs": [
        {
          "output_type": "stream",
          "name": "stdout",
          "text": [
            "4.0\n"
          ]
        }
      ]
    },
    {
      "cell_type": "code",
      "source": [
        "# Derative with respect to a\n",
        "h = 0.0001\n",
        "\n",
        "# inputs\n",
        "a = 2.0\n",
        "b = -3.0\n",
        "c = 10.0\n",
        "\n",
        "d1 = a * b + c\n",
        "a += h\n",
        "d2 = a * b + c\n",
        "\n",
        "print('d1', d1)\n",
        "print('d2', d2)\n",
        "print('slope', (d2 - d1) / h) "
      ],
      "metadata": {
        "colab": {
          "base_uri": "https://localhost:8080/"
        },
        "id": "Jeh0k4SbrIIn",
        "outputId": "61826b6a-f46e-4aae-acfd-fcbb758aa775"
      },
      "execution_count": null,
      "outputs": [
        {
          "output_type": "stream",
          "name": "stdout",
          "text": [
            "d1 4.0\n",
            "d2 3.9999969999999996\n",
            "slope -3.000000000419334\n"
          ]
        }
      ]
    },
    {
      "cell_type": "code",
      "source": [
        "# Derative with respect to b\n",
        "\n",
        "h = 0.0001\n",
        "\n",
        "# inputs\n",
        "a = 2.0\n",
        "b = -3.0\n",
        "c = 10.0\n",
        "\n",
        "d1 = a * b + c\n",
        "b += h\n",
        "d2 = a * b + c\n",
        "\n",
        "print('d1', d1)\n",
        "print('d2', d2)\n",
        "print('slope', (d2 - d1) / h)"
      ],
      "metadata": {
        "colab": {
          "base_uri": "https://localhost:8080/"
        },
        "id": "bSDW4Bu6sMig",
        "outputId": "fb053660-647c-48f7-db19-69c21f5a383d"
      },
      "execution_count": null,
      "outputs": [
        {
          "output_type": "stream",
          "name": "stdout",
          "text": [
            "d1 4.0\n",
            "d2 4.0002\n",
            "slope 2.0000000000042206\n"
          ]
        }
      ]
    },
    {
      "cell_type": "code",
      "source": [
        "# Derative with respect to d\n",
        "\n",
        "h = 0.0001\n",
        "\n",
        "# inputs\n",
        "a = 2.0\n",
        "b = -3.0\n",
        "c = 10.0\n",
        "\n",
        "d1 = a * b + c\n",
        "c += h\n",
        "d2 = a * b + c\n",
        "\n",
        "print('d1', d1)\n",
        "print('d2', d2)\n",
        "print('slope', (d2 - d1) / h)"
      ],
      "metadata": {
        "colab": {
          "base_uri": "https://localhost:8080/"
        },
        "id": "H5CZwIt5saOE",
        "outputId": "16449e7a-a1eb-42f5-92c9-9507db5bdd8d"
      },
      "execution_count": null,
      "outputs": [
        {
          "output_type": "stream",
          "name": "stdout",
          "text": [
            "d1 4.0\n",
            "d2 4.0001\n",
            "slope 0.9999999999976694\n"
          ]
        }
      ]
    },
    {
      "cell_type": "code",
      "source": [
        "from prompt_toolkit.layout.menus import math\n",
        "class Value:\n",
        "  \n",
        "  def __init__(self, data, _children=(), _op='', label=''):\n",
        "    self.data = data\n",
        "    self.grad = 0.0\n",
        "    self._backward = lambda: None\n",
        "    self._prev = set(_children)\n",
        "    self._op = _op\n",
        "    self.label = label\n",
        "\n",
        "  def __repr__(self):\n",
        "    return f\"Value(data={self.data})\"\n",
        "  \n",
        "  def __add__(self, other):\n",
        "    other = other if isinstance(other, Value) else Value(other)\n",
        "    out = Value(self.data + other.data, (self, other), '+')\n",
        "    \n",
        "    def _backward():\n",
        "      self.grad += 1.0 * out.grad\n",
        "      other.grad += 1.0 * out.grad\n",
        "    out._backward = _backward\n",
        "    \n",
        "    return out\n",
        "\n",
        "  def __mul__(self, other):\n",
        "    other = other if isinstance(other, Value) else Value(other)\n",
        "    out = Value(self.data * other.data, (self, other), '*')\n",
        "    \n",
        "    def _backward():\n",
        "      self.grad += other.data * out.grad\n",
        "      other.grad += self.data * out.grad\n",
        "    out._backward = _backward\n",
        "      \n",
        "    return out\n",
        "  \n",
        "  def __pow__(self, other):\n",
        "    assert isinstance(other, (int, float)), \"only supporting int/float powers for now\"\n",
        "    out = Value(self.data**other, (self,), f'**{other}')\n",
        "\n",
        "    def _backward():\n",
        "        self.grad += other * (self.data ** (other - 1)) * out.grad\n",
        "    out._backward = _backward\n",
        "\n",
        "    return out\n",
        "  \n",
        "  def __rmul__(self, other): # other * self\n",
        "    return self * other\n",
        "\n",
        "  def __truediv__(self, other): # self / other\n",
        "    return self * other**-1\n",
        "\n",
        "  def __neg__(self): # -self\n",
        "    return self * -1\n",
        "\n",
        "  def __sub__(self, other): # self - other\n",
        "    return self + (-other)\n",
        "\n",
        "  def __radd__(self, other): # other + self\n",
        "    return self + other\n",
        "\n",
        "  def tanh(self):\n",
        "    x = self.data\n",
        "    t = (math.exp(2*x) - 1)/(math.exp(2*x) + 1)\n",
        "    out = Value(t, (self, ), 'tanh')\n",
        "    \n",
        "    def _backward():\n",
        "      self.grad += (1 - t**2) * out.grad\n",
        "    out._backward = _backward\n",
        "    \n",
        "    return out\n",
        "  \n",
        "  def exp(self):\n",
        "    x = self.data\n",
        "    out = Value(math.exp(x), (self, ), 'exp')\n",
        "    \n",
        "    def _backward():\n",
        "      self.grad += out.data * out.grad # NOTE: in the video I incorrectly used = instead of +=. Fixed here.\n",
        "    out._backward = _backward\n",
        "    \n",
        "    return out\n",
        "  \n",
        "  \n",
        "  def backward(self):\n",
        "    \n",
        "    topo = []\n",
        "    visited = set()\n",
        "    def build_topo(v):\n",
        "      if v not in visited:\n",
        "        visited.add(v)\n",
        "        for child in v._prev:\n",
        "          build_topo(child)\n",
        "        topo.append(v)\n",
        "    build_topo(self)\n",
        "    \n",
        "    self.grad = 1.0\n",
        "    for node in reversed(topo):\n",
        "      node._backward()"
      ],
      "metadata": {
        "id": "RzEkvYdzsmOs"
      },
      "execution_count": 1,
      "outputs": []
    },
    {
      "cell_type": "markdown",
      "source": [
        "# Neuer Abschnitt"
      ],
      "metadata": {
        "id": "8qIhEewfbp3V"
      }
    },
    {
      "cell_type": "code",
      "source": [
        "from graphviz import Digraph\n",
        "\n",
        "def trace(root):\n",
        "  # builds a set of all nodes and edges in a graph\n",
        "  nodes, edges = set(), set()\n",
        "  def build(v):\n",
        "    if v not in nodes: \n",
        "      nodes.add(v)\n",
        "      for child in v._prev:\n",
        "        edges.add((child, v))\n",
        "        build(child)\n",
        "  build(root)\n",
        "  return nodes,edges\n",
        "\n",
        "def draw_dot(root):\n",
        "  dot = Digraph(format='svg', graph_attr={'rankdir': 'LR'} )\n",
        "\n",
        "  nodes, edges = trace(root)\n",
        "  for n in nodes:\n",
        "    uid = str(id(n))\n",
        "    # for any value in the graph, create a rectangular ('record') node for it\n",
        "    dot.node(name = uid, label = \"{ %s | data %.4f | grad %.4f}\" % (n.label, n.data, n.grad), shape='record')\n",
        "    if n._op:\n",
        "      # if this value is a result of some operation, create an op node for it\n",
        "      dot.node(name = uid + n._op, label = n._op)\n",
        "      # and connect this node to it\n",
        "      dot.edge(uid + n._op, uid)\n",
        "\n",
        "  for n1, n2 in edges: \n",
        "    # connect n1 to the op node of n2\n",
        "    dot.edge(str(id(n1)), str(id(n2)) + n2._op)\n",
        "\n",
        "  return dot"
      ],
      "metadata": {
        "id": "DXfdq4sAuz48"
      },
      "execution_count": 21,
      "outputs": []
    },
    {
      "cell_type": "code",
      "source": [
        "draw_dot(L)\n"
      ],
      "metadata": {
        "colab": {
          "base_uri": "https://localhost:8080/",
          "height": 192
        },
        "id": "Q-QWx5vxxw5-",
        "outputId": "9195966f-4227-4a6b-8d72-1b9107e2eeb7"
      },
      "execution_count": null,
      "outputs": [
        {
          "output_type": "execute_result",
          "data": {
            "text/plain": [
              "<graphviz.dot.Digraph at 0x7f637996ed90>"
            ],
            "image/svg+xml": "<?xml version=\"1.0\" encoding=\"UTF-8\" standalone=\"no\"?>\n<!DOCTYPE svg PUBLIC \"-//W3C//DTD SVG 1.1//EN\"\n \"http://www.w3.org/Graphics/SVG/1.1/DTD/svg11.dtd\">\n<!-- Generated by graphviz version 2.43.0 (0)\n -->\n<!-- Title: %3 Pages: 1 -->\n<svg width=\"1144pt\" height=\"128pt\"\n viewBox=\"0.00 0.00 1144.00 128.00\" xmlns=\"http://www.w3.org/2000/svg\" xmlns:xlink=\"http://www.w3.org/1999/xlink\">\n<g id=\"graph0\" class=\"graph\" transform=\"scale(1 1) rotate(0) translate(4 124)\">\n<title>%3</title>\n<polygon fill=\"white\" stroke=\"transparent\" points=\"-4,4 -4,-124 1140,-124 1140,4 -4,4\"/>\n<!-- 140065217868416 -->\n<g id=\"node1\" class=\"node\">\n<title>140065217868416</title>\n<polygon fill=\"none\" stroke=\"black\" points=\"638,-27.5 638,-63.5 820,-63.5 820,-27.5 638,-27.5\"/>\n<text text-anchor=\"middle\" x=\"648\" y=\"-41.8\" font-family=\"Times,serif\" font-size=\"14.00\"> </text>\n<polyline fill=\"none\" stroke=\"black\" points=\"658,-27.5 658,-63.5 \"/>\n<text text-anchor=\"middle\" x=\"698\" y=\"-41.8\" font-family=\"Times,serif\" font-size=\"14.00\">data 2.5400</text>\n<polyline fill=\"none\" stroke=\"black\" points=\"738,-27.5 738,-63.5 \"/>\n<text text-anchor=\"middle\" x=\"779\" y=\"-41.8\" font-family=\"Times,serif\" font-size=\"14.00\">grad 0.0000</text>\n</g>\n<!-- 140065217871056* -->\n<g id=\"node5\" class=\"node\">\n<title>140065217871056*</title>\n<ellipse fill=\"none\" stroke=\"black\" cx=\"886\" cy=\"-72.5\" rx=\"27\" ry=\"18\"/>\n<text text-anchor=\"middle\" x=\"886\" y=\"-68.8\" font-family=\"Times,serif\" font-size=\"14.00\">*</text>\n</g>\n<!-- 140065217868416&#45;&gt;140065217871056* -->\n<g id=\"edge4\" class=\"edge\">\n<title>140065217868416&#45;&gt;140065217871056*</title>\n<path fill=\"none\" stroke=\"black\" d=\"M820.16,-61.21C830.6,-63.02 840.72,-64.79 849.74,-66.36\"/>\n<polygon fill=\"black\" stroke=\"black\" points=\"849.33,-69.84 859.78,-68.11 850.53,-62.94 849.33,-69.84\"/>\n</g>\n<!-- 140065217868416+ -->\n<g id=\"node2\" class=\"node\">\n<title>140065217868416+</title>\n<ellipse fill=\"none\" stroke=\"black\" cx=\"572\" cy=\"-45.5\" rx=\"27\" ry=\"18\"/>\n<text text-anchor=\"middle\" x=\"572\" y=\"-41.8\" font-family=\"Times,serif\" font-size=\"14.00\">+</text>\n</g>\n<!-- 140065217868416+&#45;&gt;140065217868416 -->\n<g id=\"edge1\" class=\"edge\">\n<title>140065217868416+&#45;&gt;140065217868416</title>\n<path fill=\"none\" stroke=\"black\" d=\"M599.29,-45.5C607.61,-45.5 617.34,-45.5 627.67,-45.5\"/>\n<polygon fill=\"black\" stroke=\"black\" points=\"627.73,-49 637.73,-45.5 627.73,-42 627.73,-49\"/>\n</g>\n<!-- 140065217885376 -->\n<g id=\"node3\" class=\"node\">\n<title>140065217885376</title>\n<polygon fill=\"none\" stroke=\"black\" points=\"635,-82.5 635,-118.5 823,-118.5 823,-82.5 635,-82.5\"/>\n<text text-anchor=\"middle\" x=\"645.5\" y=\"-96.8\" font-family=\"Times,serif\" font-size=\"14.00\">f</text>\n<polyline fill=\"none\" stroke=\"black\" points=\"656,-82.5 656,-118.5 \"/>\n<text text-anchor=\"middle\" x=\"698.5\" y=\"-96.8\" font-family=\"Times,serif\" font-size=\"14.00\">data &#45;2.0000</text>\n<polyline fill=\"none\" stroke=\"black\" points=\"741,-82.5 741,-118.5 \"/>\n<text text-anchor=\"middle\" x=\"782\" y=\"-96.8\" font-family=\"Times,serif\" font-size=\"14.00\">grad 0.0000</text>\n</g>\n<!-- 140065217885376&#45;&gt;140065217871056* -->\n<g id=\"edge9\" class=\"edge\">\n<title>140065217885376&#45;&gt;140065217871056*</title>\n<path fill=\"none\" stroke=\"black\" d=\"M823.29,-83.65C832.57,-81.97 841.52,-80.35 849.61,-78.89\"/>\n<polygon fill=\"black\" stroke=\"black\" points=\"850.46,-82.3 859.68,-77.07 849.21,-75.41 850.46,-82.3\"/>\n</g>\n<!-- 140065217871056 -->\n<g id=\"node4\" class=\"node\">\n<title>140065217871056</title>\n<polygon fill=\"none\" stroke=\"black\" points=\"949,-54.5 949,-90.5 1136,-90.5 1136,-54.5 949,-54.5\"/>\n<text text-anchor=\"middle\" x=\"959\" y=\"-68.8\" font-family=\"Times,serif\" font-size=\"14.00\"> </text>\n<polyline fill=\"none\" stroke=\"black\" points=\"969,-54.5 969,-90.5 \"/>\n<text text-anchor=\"middle\" x=\"1011.5\" y=\"-68.8\" font-family=\"Times,serif\" font-size=\"14.00\">data &#45;5.0800</text>\n<polyline fill=\"none\" stroke=\"black\" points=\"1054,-54.5 1054,-90.5 \"/>\n<text text-anchor=\"middle\" x=\"1095\" y=\"-68.8\" font-family=\"Times,serif\" font-size=\"14.00\">grad 0.0000</text>\n</g>\n<!-- 140065217871056*&#45;&gt;140065217871056 -->\n<g id=\"edge2\" class=\"edge\">\n<title>140065217871056*&#45;&gt;140065217871056</title>\n<path fill=\"none\" stroke=\"black\" d=\"M913.21,-72.5C920.73,-72.5 929.43,-72.5 938.67,-72.5\"/>\n<polygon fill=\"black\" stroke=\"black\" points=\"938.89,-76 948.89,-72.5 938.89,-69 938.89,-76\"/>\n</g>\n<!-- 140065217871104 -->\n<g id=\"node6\" class=\"node\">\n<title>140065217871104</title>\n<polygon fill=\"none\" stroke=\"black\" points=\"321,-55.5 321,-91.5 508,-91.5 508,-55.5 321,-55.5\"/>\n<text text-anchor=\"middle\" x=\"331\" y=\"-69.8\" font-family=\"Times,serif\" font-size=\"14.00\"> </text>\n<polyline fill=\"none\" stroke=\"black\" points=\"341,-55.5 341,-91.5 \"/>\n<text text-anchor=\"middle\" x=\"383.5\" y=\"-69.8\" font-family=\"Times,serif\" font-size=\"14.00\">data &#45;7.3600</text>\n<polyline fill=\"none\" stroke=\"black\" points=\"426,-55.5 426,-91.5 \"/>\n<text text-anchor=\"middle\" x=\"467\" y=\"-69.8\" font-family=\"Times,serif\" font-size=\"14.00\">grad 0.0000</text>\n</g>\n<!-- 140065217871104&#45;&gt;140065217868416+ -->\n<g id=\"edge5\" class=\"edge\">\n<title>140065217871104&#45;&gt;140065217868416+</title>\n<path fill=\"none\" stroke=\"black\" d=\"M508.2,-56.81C517.9,-55.06 527.27,-53.37 535.68,-51.86\"/>\n<polygon fill=\"black\" stroke=\"black\" points=\"536.57,-55.26 545.79,-50.04 535.32,-48.37 536.57,-55.26\"/>\n</g>\n<!-- 140065217871104* -->\n<g id=\"node7\" class=\"node\">\n<title>140065217871104*</title>\n<ellipse fill=\"none\" stroke=\"black\" cx=\"257\" cy=\"-73.5\" rx=\"27\" ry=\"18\"/>\n<text text-anchor=\"middle\" x=\"257\" y=\"-69.8\" font-family=\"Times,serif\" font-size=\"14.00\">*</text>\n</g>\n<!-- 140065217871104*&#45;&gt;140065217871104 -->\n<g id=\"edge3\" class=\"edge\">\n<title>140065217871104*&#45;&gt;140065217871104</title>\n<path fill=\"none\" stroke=\"black\" d=\"M284.03,-73.5C291.86,-73.5 300.96,-73.5 310.66,-73.5\"/>\n<polygon fill=\"black\" stroke=\"black\" points=\"310.94,-77 320.94,-73.5 310.94,-70 310.94,-77\"/>\n</g>\n<!-- 140065218715504 -->\n<g id=\"node8\" class=\"node\">\n<title>140065218715504</title>\n<polygon fill=\"none\" stroke=\"black\" points=\"0,-83.5 0,-119.5 194,-119.5 194,-83.5 0,-83.5\"/>\n<text text-anchor=\"middle\" x=\"11.5\" y=\"-97.8\" font-family=\"Times,serif\" font-size=\"14.00\">b</text>\n<polyline fill=\"none\" stroke=\"black\" points=\"23,-83.5 23,-119.5 \"/>\n<text text-anchor=\"middle\" x=\"65.5\" y=\"-97.8\" font-family=\"Times,serif\" font-size=\"14.00\">data &#45;3.2000</text>\n<polyline fill=\"none\" stroke=\"black\" points=\"108,-83.5 108,-119.5 \"/>\n<text text-anchor=\"middle\" x=\"151\" y=\"-97.8\" font-family=\"Times,serif\" font-size=\"14.00\">grad &#45;4.0000</text>\n</g>\n<!-- 140065218715504&#45;&gt;140065217871104* -->\n<g id=\"edge7\" class=\"edge\">\n<title>140065218715504&#45;&gt;140065217871104*</title>\n<path fill=\"none\" stroke=\"black\" d=\"M194.01,-84.49C203.35,-82.83 212.37,-81.23 220.49,-79.79\"/>\n<polygon fill=\"black\" stroke=\"black\" points=\"221.37,-83.19 230.6,-78 220.15,-76.3 221.37,-83.19\"/>\n</g>\n<!-- 140065218712960 -->\n<g id=\"node9\" class=\"node\">\n<title>140065218712960</title>\n<polygon fill=\"none\" stroke=\"black\" points=\"4.5,-28.5 4.5,-64.5 189.5,-64.5 189.5,-28.5 4.5,-28.5\"/>\n<text text-anchor=\"middle\" x=\"16\" y=\"-42.8\" font-family=\"Times,serif\" font-size=\"14.00\">a</text>\n<polyline fill=\"none\" stroke=\"black\" points=\"27.5,-28.5 27.5,-64.5 \"/>\n<text text-anchor=\"middle\" x=\"67.5\" y=\"-42.8\" font-family=\"Times,serif\" font-size=\"14.00\">data 2.3000</text>\n<polyline fill=\"none\" stroke=\"black\" points=\"107.5,-28.5 107.5,-64.5 \"/>\n<text text-anchor=\"middle\" x=\"148.5\" y=\"-42.8\" font-family=\"Times,serif\" font-size=\"14.00\">grad 6.0000</text>\n</g>\n<!-- 140065218712960&#45;&gt;140065217871104* -->\n<g id=\"edge6\" class=\"edge\">\n<title>140065218712960&#45;&gt;140065217871104*</title>\n<path fill=\"none\" stroke=\"black\" d=\"M189.91,-62.21C200.76,-64.06 211.28,-65.86 220.61,-67.45\"/>\n<polygon fill=\"black\" stroke=\"black\" points=\"220.16,-70.93 230.6,-69.16 221.34,-64.03 220.16,-70.93\"/>\n</g>\n<!-- 140065218714592 -->\n<g id=\"node10\" class=\"node\">\n<title>140065218714592</title>\n<polygon fill=\"none\" stroke=\"black\" points=\"320,-0.5 320,-36.5 509,-36.5 509,-0.5 320,-0.5\"/>\n<text text-anchor=\"middle\" x=\"331.5\" y=\"-14.8\" font-family=\"Times,serif\" font-size=\"14.00\">c</text>\n<polyline fill=\"none\" stroke=\"black\" points=\"343,-0.5 343,-36.5 \"/>\n<text text-anchor=\"middle\" x=\"383\" y=\"-14.8\" font-family=\"Times,serif\" font-size=\"14.00\">data 9.9000</text>\n<polyline fill=\"none\" stroke=\"black\" points=\"423,-0.5 423,-36.5 \"/>\n<text text-anchor=\"middle\" x=\"466\" y=\"-14.8\" font-family=\"Times,serif\" font-size=\"14.00\">grad &#45;2.0000</text>\n</g>\n<!-- 140065218714592&#45;&gt;140065217868416+ -->\n<g id=\"edge8\" class=\"edge\">\n<title>140065218714592&#45;&gt;140065217868416+</title>\n<path fill=\"none\" stroke=\"black\" d=\"M509.1,-34.75C518.4,-36.37 527.38,-37.93 535.49,-39.33\"/>\n<polygon fill=\"black\" stroke=\"black\" points=\"535.14,-42.83 545.59,-41.09 536.34,-35.93 535.14,-42.83\"/>\n</g>\n</g>\n</svg>\n"
          },
          "metadata": {},
          "execution_count": 112
        }
      ]
    },
    {
      "cell_type": "code",
      "source": [
        "# Back Prog with gradient\n",
        "\n",
        "a.data += 0.01 * a.grad\n",
        "b.data += 0.01 * b.grad\n",
        "c.data += 0.01 * c.grad\n",
        "f.data += 0.01 * f.grad\n",
        "\n",
        "e = a*b;\n",
        "d = e + c;\n",
        "L = d * f"
      ],
      "metadata": {
        "id": "xiRvCSaZ7hIu"
      },
      "execution_count": null,
      "outputs": []
    },
    {
      "cell_type": "code",
      "source": [
        " # manuel derivatives for the nodes (Gradient)\n",
        "L.grad = 1.0 # static 1  because derative of 8 is 1\n",
        "f.grad = 4.0 # dL/df is luckily d.value \n",
        "d.grad = -2.0 # dL/dd is luckily f.value\n",
        "# For nested deriivatis the chain rule applies  \n",
        "# WANT\n",
        "# dL / dc = (dl / dd) * (dd / dc)\n",
        "# KNOW\n",
        "# dL / dd = -2.0\n",
        "# dd / dc = 1.0 because derative c from c + e = 1.0\n",
        "c.grad = -2.0 * 1.0\n",
        "\n",
        "# WANT\n",
        "# dL / de = (dl / dd) * (dd / de)\n",
        "# KNOW\n",
        "# dL / dd = -2.0\n",
        "# dd / de = 1.0 because derative e from c + e = 1.0\n",
        "e.grad = -2.0 * 1.0\n",
        "\n",
        "# NEXT\n",
        "# dL / de = -2.0\n",
        "\n",
        "# e = a * b\n",
        "# de / da ? b\n",
        "# dL / da = (dL / de ) * (de / da)\n",
        "# dL / da = -2.0 * -3.0 = 6.0 \n",
        "a.grad = -2.0 * - 3.0\n",
        "b.grad = -2.0 * 2.0"
      ],
      "metadata": {
        "id": "bchNs3z01TuA"
      },
      "execution_count": null,
      "outputs": []
    },
    {
      "cell_type": "code",
      "source": [
        "# tanh activation function\n",
        "plt.plot(np.arange(-5,5,0.2), np.tanh(np.arange(-5,5,0.2))); plt.grid();"
      ],
      "metadata": {
        "colab": {
          "base_uri": "https://localhost:8080/",
          "height": 265
        },
        "id": "x5IyWZAU9DcR",
        "outputId": "dd8bd67e-d250-4052-a4a8-ed1a30779184"
      },
      "execution_count": null,
      "outputs": [
        {
          "output_type": "display_data",
          "data": {
            "text/plain": [
              "<Figure size 432x288 with 1 Axes>"
            ],
            "image/png": "[encoded data removed]"
          },
          "metadata": {
            "needs_background": "light"
          }
        }
      ]
    },
    {
      "cell_type": "code",
      "source": [
        "# inputs x1, x2\n",
        "x1 = Value(2.0, label = 'x1')\n",
        "x2 = Value(0.0, label = 'x2')\n",
        "\n",
        "# weights of neuron\n",
        "w1 = Value(-3.0, label = 'w1')\n",
        "w2 = Value(1.0, label = 'w2')\n",
        "b = Value(6.88137358700195432, label = 'b')\n",
        "\n",
        "# weighted inputs\n",
        "x1w1 = x1*w1; x1w1.label='x1*w1'\n",
        "x2w2 = x2*w2; x2w2.label='x2*w2'\n",
        "\n",
        "#sum if weighted inputs\n",
        "x1w1x2x2 = x1w1 + x2w2; x1w1x2x2.label = 'x1*w1 + x2*x2'\n",
        "# sum + bias\n",
        "n = x1w1x2x2 + b; n.label = 'n'\n",
        "o = n.tanh(); o.label= 'o'"
      ],
      "metadata": {
        "id": "7JbUCfa59iUS"
      },
      "execution_count": null,
      "outputs": []
    },
    {
      "cell_type": "code",
      "source": [
        "draw_dot(o)"
      ],
      "metadata": {
        "colab": {
          "base_uri": "https://localhost:8080/",
          "height": 321
        },
        "id": "pw9X73GADMzB",
        "outputId": "00fcb20c-afbd-4a99-ec54-573d9216e709"
      },
      "execution_count": null,
      "outputs": [
        {
          "output_type": "execute_result",
          "data": {
            "text/plain": [
              "<graphviz.dot.Digraph at 0x7f63797acc40>"
            ],
            "image/svg+xml": "<?xml version=\"1.0\" encoding=\"UTF-8\" standalone=\"no\"?>\n<!DOCTYPE svg PUBLIC \"-//W3C//DTD SVG 1.1//EN\"\n \"http://www.w3.org/Graphics/SVG/1.1/DTD/svg11.dtd\">\n<!-- Generated by graphviz version 2.43.0 (0)\n -->\n<!-- Title: %3 Pages: 1 -->\n<svg width=\"1572pt\" height=\"210pt\"\n viewBox=\"0.00 0.00 1572.00 210.00\" xmlns=\"http://www.w3.org/2000/svg\" xmlns:xlink=\"http://www.w3.org/1999/xlink\">\n<g id=\"graph0\" class=\"graph\" transform=\"scale(1 1) rotate(0) translate(4 206)\">\n<title>%3</title>\n<polygon fill=\"white\" stroke=\"transparent\" points=\"-4,4 -4,-206 1568,-206 1568,4 -4,4\"/>\n<!-- 140065216388112 -->\n<g id=\"node1\" class=\"node\">\n<title>140065216388112</title>\n<polygon fill=\"none\" stroke=\"black\" points=\"0,-165.5 0,-201.5 200,-201.5 200,-165.5 0,-165.5\"/>\n<text text-anchor=\"middle\" x=\"16.5\" y=\"-179.8\" font-family=\"Times,serif\" font-size=\"14.00\">w1</text>\n<polyline fill=\"none\" stroke=\"black\" points=\"33,-165.5 33,-201.5 \"/>\n<text text-anchor=\"middle\" x=\"75.5\" y=\"-179.8\" font-family=\"Times,serif\" font-size=\"14.00\">data &#45;3.0000</text>\n<polyline fill=\"none\" stroke=\"black\" points=\"118,-165.5 118,-201.5 \"/>\n<text text-anchor=\"middle\" x=\"159\" y=\"-179.8\" font-family=\"Times,serif\" font-size=\"14.00\">grad 1.0000</text>\n</g>\n<!-- 140065216430192* -->\n<g id=\"node3\" class=\"node\">\n<title>140065216430192*</title>\n<ellipse fill=\"none\" stroke=\"black\" cx=\"263\" cy=\"-128.5\" rx=\"27\" ry=\"18\"/>\n<text text-anchor=\"middle\" x=\"263\" y=\"-124.8\" font-family=\"Times,serif\" font-size=\"14.00\">*</text>\n</g>\n<!-- 140065216388112&#45;&gt;140065216430192* -->\n<g id=\"edge13\" class=\"edge\">\n<title>140065216388112&#45;&gt;140065216430192*</title>\n<path fill=\"none\" stroke=\"black\" d=\"M172.53,-165.44C181.84,-162.67 191.2,-159.67 200,-156.5 210.53,-152.71 221.75,-147.9 231.72,-143.33\"/>\n<polygon fill=\"black\" stroke=\"black\" points=\"233.25,-146.48 240.82,-139.07 230.28,-140.14 233.25,-146.48\"/>\n</g>\n<!-- 140065216430192 -->\n<g id=\"node2\" class=\"node\">\n<title>140065216430192</title>\n<polygon fill=\"none\" stroke=\"black\" points=\"326,-110.5 326,-146.5 546,-146.5 546,-110.5 326,-110.5\"/>\n<text text-anchor=\"middle\" x=\"352.5\" y=\"-124.8\" font-family=\"Times,serif\" font-size=\"14.00\">x1*w1</text>\n<polyline fill=\"none\" stroke=\"black\" points=\"379,-110.5 379,-146.5 \"/>\n<text text-anchor=\"middle\" x=\"421.5\" y=\"-124.8\" font-family=\"Times,serif\" font-size=\"14.00\">data &#45;6.0000</text>\n<polyline fill=\"none\" stroke=\"black\" points=\"464,-110.5 464,-146.5 \"/>\n<text text-anchor=\"middle\" x=\"505\" y=\"-124.8\" font-family=\"Times,serif\" font-size=\"14.00\">grad 0.5000</text>\n</g>\n<!-- 140065216518416+ -->\n<g id=\"node9\" class=\"node\">\n<title>140065216518416+</title>\n<ellipse fill=\"none\" stroke=\"black\" cx=\"609\" cy=\"-100.5\" rx=\"27\" ry=\"18\"/>\n<text text-anchor=\"middle\" x=\"609\" y=\"-96.8\" font-family=\"Times,serif\" font-size=\"14.00\">+</text>\n</g>\n<!-- 140065216430192&#45;&gt;140065216518416+ -->\n<g id=\"edge9\" class=\"edge\">\n<title>140065216430192&#45;&gt;140065216518416+</title>\n<path fill=\"none\" stroke=\"black\" d=\"M546.27,-110.61C555.64,-109.07 564.6,-107.61 572.65,-106.29\"/>\n<polygon fill=\"black\" stroke=\"black\" points=\"573.35,-109.72 582.65,-104.65 572.22,-102.81 573.35,-109.72\"/>\n</g>\n<!-- 140065216430192*&#45;&gt;140065216430192 -->\n<g id=\"edge1\" class=\"edge\">\n<title>140065216430192*&#45;&gt;140065216430192</title>\n<path fill=\"none\" stroke=\"black\" d=\"M290.34,-128.5C297.77,-128.5 306.37,-128.5 315.6,-128.5\"/>\n<polygon fill=\"black\" stroke=\"black\" points=\"315.84,-132 325.84,-128.5 315.84,-125 315.84,-132\"/>\n</g>\n<!-- 140065216518320 -->\n<g id=\"node4\" class=\"node\">\n<title>140065216518320</title>\n<polygon fill=\"none\" stroke=\"black\" points=\"1068,-54.5 1068,-90.5 1253,-90.5 1253,-54.5 1068,-54.5\"/>\n<text text-anchor=\"middle\" x=\"1079.5\" y=\"-68.8\" font-family=\"Times,serif\" font-size=\"14.00\">n</text>\n<polyline fill=\"none\" stroke=\"black\" points=\"1091,-54.5 1091,-90.5 \"/>\n<text text-anchor=\"middle\" x=\"1131\" y=\"-68.8\" font-family=\"Times,serif\" font-size=\"14.00\">data 0.8814</text>\n<polyline fill=\"none\" stroke=\"black\" points=\"1171,-54.5 1171,-90.5 \"/>\n<text text-anchor=\"middle\" x=\"1212\" y=\"-68.8\" font-family=\"Times,serif\" font-size=\"14.00\">grad 0.5000</text>\n</g>\n<!-- 140065216520000tanh -->\n<g id=\"node11\" class=\"node\">\n<title>140065216520000tanh</title>\n<ellipse fill=\"none\" stroke=\"black\" cx=\"1316\" cy=\"-72.5\" rx=\"27\" ry=\"18\"/>\n<text text-anchor=\"middle\" x=\"1316\" y=\"-68.8\" font-family=\"Times,serif\" font-size=\"14.00\">tanh</text>\n</g>\n<!-- 140065216518320&#45;&gt;140065216520000tanh -->\n<g id=\"edge14\" class=\"edge\">\n<title>140065216518320&#45;&gt;140065216520000tanh</title>\n<path fill=\"none\" stroke=\"black\" d=\"M1253.01,-72.5C1262.01,-72.5 1270.74,-72.5 1278.66,-72.5\"/>\n<polygon fill=\"black\" stroke=\"black\" points=\"1278.91,-76 1288.91,-72.5 1278.91,-69 1278.91,-76\"/>\n</g>\n<!-- 140065216518320+ -->\n<g id=\"node5\" class=\"node\">\n<title>140065216518320+</title>\n<ellipse fill=\"none\" stroke=\"black\" cx=\"1005\" cy=\"-72.5\" rx=\"27\" ry=\"18\"/>\n<text text-anchor=\"middle\" x=\"1005\" y=\"-68.8\" font-family=\"Times,serif\" font-size=\"14.00\">+</text>\n</g>\n<!-- 140065216518320+&#45;&gt;140065216518320 -->\n<g id=\"edge2\" class=\"edge\">\n<title>140065216518320+&#45;&gt;140065216518320</title>\n<path fill=\"none\" stroke=\"black\" d=\"M1032.04,-72.5C1039.58,-72.5 1048.3,-72.5 1057.57,-72.5\"/>\n<polygon fill=\"black\" stroke=\"black\" points=\"1057.81,-76 1067.81,-72.5 1057.81,-69 1057.81,-76\"/>\n</g>\n<!-- 140065216385232 -->\n<g id=\"node6\" class=\"node\">\n<title>140065216385232</title>\n<polygon fill=\"none\" stroke=\"black\" points=\"2,-110.5 2,-146.5 198,-146.5 198,-110.5 2,-110.5\"/>\n<text text-anchor=\"middle\" x=\"17\" y=\"-124.8\" font-family=\"Times,serif\" font-size=\"14.00\">x1</text>\n<polyline fill=\"none\" stroke=\"black\" points=\"32,-110.5 32,-146.5 \"/>\n<text text-anchor=\"middle\" x=\"72\" y=\"-124.8\" font-family=\"Times,serif\" font-size=\"14.00\">data 2.0000</text>\n<polyline fill=\"none\" stroke=\"black\" points=\"112,-110.5 112,-146.5 \"/>\n<text text-anchor=\"middle\" x=\"155\" y=\"-124.8\" font-family=\"Times,serif\" font-size=\"14.00\">grad &#45;1.5000</text>\n</g>\n<!-- 140065216385232&#45;&gt;140065216430192* -->\n<g id=\"edge6\" class=\"edge\">\n<title>140065216385232&#45;&gt;140065216430192*</title>\n<path fill=\"none\" stroke=\"black\" d=\"M198.37,-128.5C208.05,-128.5 217.4,-128.5 225.8,-128.5\"/>\n<polygon fill=\"black\" stroke=\"black\" points=\"225.91,-132 235.91,-128.5 225.91,-125 225.91,-132\"/>\n</g>\n<!-- 140065216386816 -->\n<g id=\"node7\" class=\"node\">\n<title>140065216386816</title>\n<polygon fill=\"none\" stroke=\"black\" points=\"4,-55.5 4,-91.5 196,-91.5 196,-55.5 4,-55.5\"/>\n<text text-anchor=\"middle\" x=\"19\" y=\"-69.8\" font-family=\"Times,serif\" font-size=\"14.00\">x2</text>\n<polyline fill=\"none\" stroke=\"black\" points=\"34,-55.5 34,-91.5 \"/>\n<text text-anchor=\"middle\" x=\"74\" y=\"-69.8\" font-family=\"Times,serif\" font-size=\"14.00\">data 0.0000</text>\n<polyline fill=\"none\" stroke=\"black\" points=\"114,-55.5 114,-91.5 \"/>\n<text text-anchor=\"middle\" x=\"155\" y=\"-69.8\" font-family=\"Times,serif\" font-size=\"14.00\">grad 0.5000</text>\n</g>\n<!-- 140065216716752* -->\n<g id=\"node15\" class=\"node\">\n<title>140065216716752*</title>\n<ellipse fill=\"none\" stroke=\"black\" cx=\"263\" cy=\"-73.5\" rx=\"27\" ry=\"18\"/>\n<text text-anchor=\"middle\" x=\"263\" y=\"-69.8\" font-family=\"Times,serif\" font-size=\"14.00\">*</text>\n</g>\n<!-- 140065216386816&#45;&gt;140065216716752* -->\n<g id=\"edge11\" class=\"edge\">\n<title>140065216386816&#45;&gt;140065216716752*</title>\n<path fill=\"none\" stroke=\"black\" d=\"M196.05,-73.5C206.52,-73.5 216.65,-73.5 225.71,-73.5\"/>\n<polygon fill=\"black\" stroke=\"black\" points=\"225.79,-77 235.79,-73.5 225.79,-70 225.79,-77\"/>\n</g>\n<!-- 140065216518416 -->\n<g id=\"node8\" class=\"node\">\n<title>140065216518416</title>\n<polygon fill=\"none\" stroke=\"black\" points=\"672,-82.5 672,-118.5 942,-118.5 942,-82.5 672,-82.5\"/>\n<text text-anchor=\"middle\" x=\"723.5\" y=\"-96.8\" font-family=\"Times,serif\" font-size=\"14.00\">x1*w1 + x2*x2</text>\n<polyline fill=\"none\" stroke=\"black\" points=\"775,-82.5 775,-118.5 \"/>\n<text text-anchor=\"middle\" x=\"817.5\" y=\"-96.8\" font-family=\"Times,serif\" font-size=\"14.00\">data &#45;6.0000</text>\n<polyline fill=\"none\" stroke=\"black\" points=\"860,-82.5 860,-118.5 \"/>\n<text text-anchor=\"middle\" x=\"901\" y=\"-96.8\" font-family=\"Times,serif\" font-size=\"14.00\">grad 0.5000</text>\n</g>\n<!-- 140065216518416&#45;&gt;140065216518320+ -->\n<g id=\"edge7\" class=\"edge\">\n<title>140065216518416&#45;&gt;140065216518320+</title>\n<path fill=\"none\" stroke=\"black\" d=\"M934.07,-82.49C946.42,-80.73 958.13,-79.05 968.3,-77.6\"/>\n<polygon fill=\"black\" stroke=\"black\" points=\"968.91,-81.05 978.31,-76.17 967.92,-74.12 968.91,-81.05\"/>\n</g>\n<!-- 140065216518416+&#45;&gt;140065216518416 -->\n<g id=\"edge3\" class=\"edge\">\n<title>140065216518416+&#45;&gt;140065216518416</title>\n<path fill=\"none\" stroke=\"black\" d=\"M636.03,-100.5C643.52,-100.5 652.27,-100.5 661.77,-100.5\"/>\n<polygon fill=\"black\" stroke=\"black\" points=\"661.93,-104 671.93,-100.5 661.93,-97 661.93,-104\"/>\n</g>\n<!-- 140065216520000 -->\n<g id=\"node10\" class=\"node\">\n<title>140065216520000</title>\n<polygon fill=\"none\" stroke=\"black\" points=\"1379,-54.5 1379,-90.5 1564,-90.5 1564,-54.5 1379,-54.5\"/>\n<text text-anchor=\"middle\" x=\"1390.5\" y=\"-68.8\" font-family=\"Times,serif\" font-size=\"14.00\">o</text>\n<polyline fill=\"none\" stroke=\"black\" points=\"1402,-54.5 1402,-90.5 \"/>\n<text text-anchor=\"middle\" x=\"1442\" y=\"-68.8\" font-family=\"Times,serif\" font-size=\"14.00\">data 0.7071</text>\n<polyline fill=\"none\" stroke=\"black\" points=\"1482,-54.5 1482,-90.5 \"/>\n<text text-anchor=\"middle\" x=\"1523\" y=\"-68.8\" font-family=\"Times,serif\" font-size=\"14.00\">grad 1.0000</text>\n</g>\n<!-- 140065216520000tanh&#45;&gt;140065216520000 -->\n<g id=\"edge4\" class=\"edge\">\n<title>140065216520000tanh&#45;&gt;140065216520000</title>\n<path fill=\"none\" stroke=\"black\" d=\"M1343.04,-72.5C1350.58,-72.5 1359.3,-72.5 1368.57,-72.5\"/>\n<polygon fill=\"black\" stroke=\"black\" points=\"1368.81,-76 1378.81,-72.5 1368.81,-69 1368.81,-76\"/>\n</g>\n<!-- 140065216385904 -->\n<g id=\"node12\" class=\"node\">\n<title>140065216385904</title>\n<polygon fill=\"none\" stroke=\"black\" points=\"714.5,-27.5 714.5,-63.5 899.5,-63.5 899.5,-27.5 714.5,-27.5\"/>\n<text text-anchor=\"middle\" x=\"726\" y=\"-41.8\" font-family=\"Times,serif\" font-size=\"14.00\">b</text>\n<polyline fill=\"none\" stroke=\"black\" points=\"737.5,-27.5 737.5,-63.5 \"/>\n<text text-anchor=\"middle\" x=\"777.5\" y=\"-41.8\" font-family=\"Times,serif\" font-size=\"14.00\">data 6.8814</text>\n<polyline fill=\"none\" stroke=\"black\" points=\"817.5,-27.5 817.5,-63.5 \"/>\n<text text-anchor=\"middle\" x=\"858.5\" y=\"-41.8\" font-family=\"Times,serif\" font-size=\"14.00\">grad 0.5000</text>\n</g>\n<!-- 140065216385904&#45;&gt;140065216518320+ -->\n<g id=\"edge12\" class=\"edge\">\n<title>140065216385904&#45;&gt;140065216518320+</title>\n<path fill=\"none\" stroke=\"black\" d=\"M899.69,-58.13C924.07,-61.49 948.97,-64.92 968.32,-67.59\"/>\n<polygon fill=\"black\" stroke=\"black\" points=\"968.09,-71.09 978.47,-68.98 969.04,-64.15 968.09,-71.09\"/>\n</g>\n<!-- 140065216385952 -->\n<g id=\"node13\" class=\"node\">\n<title>140065216385952</title>\n<polygon fill=\"none\" stroke=\"black\" points=\"2.5,-0.5 2.5,-36.5 197.5,-36.5 197.5,-0.5 2.5,-0.5\"/>\n<text text-anchor=\"middle\" x=\"19\" y=\"-14.8\" font-family=\"Times,serif\" font-size=\"14.00\">w2</text>\n<polyline fill=\"none\" stroke=\"black\" points=\"35.5,-0.5 35.5,-36.5 \"/>\n<text text-anchor=\"middle\" x=\"75.5\" y=\"-14.8\" font-family=\"Times,serif\" font-size=\"14.00\">data 1.0000</text>\n<polyline fill=\"none\" stroke=\"black\" points=\"115.5,-0.5 115.5,-36.5 \"/>\n<text text-anchor=\"middle\" x=\"156.5\" y=\"-14.8\" font-family=\"Times,serif\" font-size=\"14.00\">grad 0.0000</text>\n</g>\n<!-- 140065216385952&#45;&gt;140065216716752* -->\n<g id=\"edge8\" class=\"edge\">\n<title>140065216385952&#45;&gt;140065216716752*</title>\n<path fill=\"none\" stroke=\"black\" d=\"M169.28,-36.5C179.65,-39.61 190.16,-42.98 200,-46.5 210.28,-50.17 221.28,-54.74 231.11,-59.07\"/>\n<polygon fill=\"black\" stroke=\"black\" points=\"229.93,-62.37 240.48,-63.27 232.79,-55.99 229.93,-62.37\"/>\n</g>\n<!-- 140065216716752 -->\n<g id=\"node14\" class=\"node\">\n<title>140065216716752</title>\n<polygon fill=\"none\" stroke=\"black\" points=\"328.5,-55.5 328.5,-91.5 543.5,-91.5 543.5,-55.5 328.5,-55.5\"/>\n<text text-anchor=\"middle\" x=\"355\" y=\"-69.8\" font-family=\"Times,serif\" font-size=\"14.00\">x2*w2</text>\n<polyline fill=\"none\" stroke=\"black\" points=\"381.5,-55.5 381.5,-91.5 \"/>\n<text text-anchor=\"middle\" x=\"421.5\" y=\"-69.8\" font-family=\"Times,serif\" font-size=\"14.00\">data 0.0000</text>\n<polyline fill=\"none\" stroke=\"black\" points=\"461.5,-55.5 461.5,-91.5 \"/>\n<text text-anchor=\"middle\" x=\"502.5\" y=\"-69.8\" font-family=\"Times,serif\" font-size=\"14.00\">grad 0.5000</text>\n</g>\n<!-- 140065216716752&#45;&gt;140065216518416+ -->\n<g id=\"edge10\" class=\"edge\">\n<title>140065216716752&#45;&gt;140065216518416+</title>\n<path fill=\"none\" stroke=\"black\" d=\"M543.84,-90.37C554.01,-91.98 563.76,-93.51 572.44,-94.89\"/>\n<polygon fill=\"black\" stroke=\"black\" points=\"572.05,-98.37 582.47,-96.47 573.14,-91.45 572.05,-98.37\"/>\n</g>\n<!-- 140065216716752*&#45;&gt;140065216716752 -->\n<g id=\"edge5\" class=\"edge\">\n<title>140065216716752*&#45;&gt;140065216716752</title>\n<path fill=\"none\" stroke=\"black\" d=\"M290.34,-73.5C298.51,-73.5 308.08,-73.5 318.36,-73.5\"/>\n<polygon fill=\"black\" stroke=\"black\" points=\"318.39,-77 328.39,-73.5 318.39,-70 318.39,-77\"/>\n</g>\n</g>\n</svg>\n"
          },
          "metadata": {},
          "execution_count": 176
        }
      ]
    },
    {
      "cell_type": "code",
      "source": [
        "o.backward()"
      ],
      "metadata": {
        "id": "-i4SwQYAIQtk"
      },
      "execution_count": null,
      "outputs": []
    },
    {
      "cell_type": "code",
      "source": [
        "n._backward()"
      ],
      "metadata": {
        "id": "PGE2v0U8JLXI"
      },
      "execution_count": null,
      "outputs": []
    },
    {
      "cell_type": "code",
      "source": [
        "b._backward()"
      ],
      "metadata": {
        "id": "TaF7ZCz2Jw4c"
      },
      "execution_count": null,
      "outputs": []
    },
    {
      "cell_type": "code",
      "source": [
        "x1w1x2x2._backward()\n"
      ],
      "metadata": {
        "id": "LwJlgS5HJVCU"
      },
      "execution_count": null,
      "outputs": []
    },
    {
      "cell_type": "code",
      "source": [
        "x1w1._backward()\n",
        "x2w2._backward()"
      ],
      "metadata": {
        "id": "943hmUsGJdn7"
      },
      "execution_count": null,
      "outputs": []
    },
    {
      "cell_type": "code",
      "source": [
        "x1.grad = 0.5 * -3.0\n",
        "w1.grad = 0.5 * 2.0\n",
        "\n",
        "x2.grad = 0.5 * 0.0\n",
        "w2.grad = 0.5 * 1.0"
      ],
      "metadata": {
        "id": "PDAsF80OE915"
      },
      "execution_count": null,
      "outputs": []
    },
    {
      "cell_type": "code",
      "source": [
        "x1w1.grad = 0.5\n",
        "x2w2.grad = 0.5 "
      ],
      "metadata": {
        "id": "DAAtNzCvExuR"
      },
      "execution_count": null,
      "outputs": []
    },
    {
      "cell_type": "code",
      "source": [
        "x1w1x2x2.grad = 0.5\n",
        "b.grad = 0.5"
      ],
      "metadata": {
        "id": "Shk5dwM-EjVC"
      },
      "execution_count": null,
      "outputs": []
    },
    {
      "cell_type": "code",
      "source": [
        "n.grad = 0.5"
      ],
      "metadata": {
        "id": "KHC-uHa4EeqZ"
      },
      "execution_count": null,
      "outputs": []
    },
    {
      "cell_type": "code",
      "source": [
        "o.grad = 1.0"
      ],
      "metadata": {
        "id": "Qey5IqKc_Bvb"
      },
      "execution_count": null,
      "outputs": []
    },
    {
      "cell_type": "code",
      "source": [
        "1 - o.data**2"
      ],
      "metadata": {
        "colab": {
          "base_uri": "https://localhost:8080/"
        },
        "id": "RXDmdqdwD5k2",
        "outputId": "be3cea35-3d8c-4c9c-cef7-a908defa22dc"
      },
      "execution_count": null,
      "outputs": [
        {
          "output_type": "execute_result",
          "data": {
            "text/plain": [
              "0.5000000000124369"
            ]
          },
          "metadata": {},
          "execution_count": 133
        }
      ]
    },
    {
      "cell_type": "code",
      "source": [
        "# o = tanh(n)\n",
        "# do / dn = 1 - tanh(n)²\n",
        "#         = 1 - o.data ** 2  "
      ],
      "metadata": {
        "id": "pOa91Yv7DZeV"
      },
      "execution_count": null,
      "outputs": []
    },
    {
      "cell_type": "code",
      "source": [
        "a = Value(3.0, label = 'a')\n",
        "b = a + a ; b.label = 'b'\n",
        "b.backward()\n",
        "draw_dot(b)"
      ],
      "metadata": {
        "colab": {
          "base_uri": "https://localhost:8080/",
          "height": 81
        },
        "id": "58oKeiT4NgUa",
        "outputId": "6a3449a0-bff7-439e-e2e1-89f6d825c7b3"
      },
      "execution_count": null,
      "outputs": [
        {
          "output_type": "execute_result",
          "data": {
            "text/plain": [
              "<graphviz.dot.Digraph at 0x7f63796dc220>"
            ],
            "image/svg+xml": "<?xml version=\"1.0\" encoding=\"UTF-8\" standalone=\"no\"?>\n<!DOCTYPE svg PUBLIC \"-//W3C//DTD SVG 1.1//EN\"\n \"http://www.w3.org/Graphics/SVG/1.1/DTD/svg11.dtd\">\n<!-- Generated by graphviz version 2.43.0 (0)\n -->\n<!-- Title: %3 Pages: 1 -->\n<svg width=\"504pt\" height=\"45pt\"\n viewBox=\"0.00 0.00 504.00 45.00\" xmlns=\"http://www.w3.org/2000/svg\" xmlns:xlink=\"http://www.w3.org/1999/xlink\">\n<g id=\"graph0\" class=\"graph\" transform=\"scale(1 1) rotate(0) translate(4 41)\">\n<title>%3</title>\n<polygon fill=\"white\" stroke=\"transparent\" points=\"-4,4 -4,-41 500,-41 500,4 -4,4\"/>\n<!-- 140065215729568 -->\n<g id=\"node1\" class=\"node\">\n<title>140065215729568</title>\n<polygon fill=\"none\" stroke=\"black\" points=\"311,-0.5 311,-36.5 496,-36.5 496,-0.5 311,-0.5\"/>\n<text text-anchor=\"middle\" x=\"322.5\" y=\"-14.8\" font-family=\"Times,serif\" font-size=\"14.00\">b</text>\n<polyline fill=\"none\" stroke=\"black\" points=\"334,-0.5 334,-36.5 \"/>\n<text text-anchor=\"middle\" x=\"374\" y=\"-14.8\" font-family=\"Times,serif\" font-size=\"14.00\">data 6.0000</text>\n<polyline fill=\"none\" stroke=\"black\" points=\"414,-0.5 414,-36.5 \"/>\n<text text-anchor=\"middle\" x=\"455\" y=\"-14.8\" font-family=\"Times,serif\" font-size=\"14.00\">grad 1.0000</text>\n</g>\n<!-- 140065215729568+ -->\n<g id=\"node2\" class=\"node\">\n<title>140065215729568+</title>\n<ellipse fill=\"none\" stroke=\"black\" cx=\"248\" cy=\"-18.5\" rx=\"27\" ry=\"18\"/>\n<text text-anchor=\"middle\" x=\"248\" y=\"-14.8\" font-family=\"Times,serif\" font-size=\"14.00\">+</text>\n</g>\n<!-- 140065215729568+&#45;&gt;140065215729568 -->\n<g id=\"edge1\" class=\"edge\">\n<title>140065215729568+&#45;&gt;140065215729568</title>\n<path fill=\"none\" stroke=\"black\" d=\"M275.04,-18.5C282.58,-18.5 291.3,-18.5 300.57,-18.5\"/>\n<polygon fill=\"black\" stroke=\"black\" points=\"300.81,-22 310.81,-18.5 300.81,-15 300.81,-22\"/>\n</g>\n<!-- 140065215729232 -->\n<g id=\"node3\" class=\"node\">\n<title>140065215729232</title>\n<polygon fill=\"none\" stroke=\"black\" points=\"0,-0.5 0,-36.5 185,-36.5 185,-0.5 0,-0.5\"/>\n<text text-anchor=\"middle\" x=\"11.5\" y=\"-14.8\" font-family=\"Times,serif\" font-size=\"14.00\">a</text>\n<polyline fill=\"none\" stroke=\"black\" points=\"23,-0.5 23,-36.5 \"/>\n<text text-anchor=\"middle\" x=\"63\" y=\"-14.8\" font-family=\"Times,serif\" font-size=\"14.00\">data 3.0000</text>\n<polyline fill=\"none\" stroke=\"black\" points=\"103,-0.5 103,-36.5 \"/>\n<text text-anchor=\"middle\" x=\"144\" y=\"-14.8\" font-family=\"Times,serif\" font-size=\"14.00\">grad 2.0000</text>\n</g>\n<!-- 140065215729232&#45;&gt;140065215729568+ -->\n<g id=\"edge2\" class=\"edge\">\n<title>140065215729232&#45;&gt;140065215729568+</title>\n<path fill=\"none\" stroke=\"black\" d=\"M185.01,-18.5C194.01,-18.5 202.74,-18.5 210.66,-18.5\"/>\n<polygon fill=\"black\" stroke=\"black\" points=\"210.91,-22 220.91,-18.5 210.91,-15 210.91,-22\"/>\n</g>\n</g>\n</svg>\n"
          },
          "metadata": {},
          "execution_count": 181
        }
      ]
    },
    {
      "cell_type": "code",
      "source": [
        "import torch\n",
        "\n",
        "x1 = torch.Tensor([2.0]).double()               ; x1.requires_grad = True\n",
        "x2 = torch.Tensor([0.0]).double()               ; x2.requires_grad = True\n",
        "w1 = torch.Tensor([-3.0]).double()              ; w1.requires_grad = True\n",
        "w2 = torch.Tensor([1.0]).double()               ; w2.requires_grad = True\n",
        "b = torch.Tensor([6.8813735870195432]).double(); b.requires_grad = True\n",
        "\n",
        "n = x1*w1 + x2*w2 + b\n",
        "o = torch.tanh(n)\n",
        " \n",
        "print(o.data.item())\n",
        "o.backward()\n",
        "\n",
        "print('---')\n",
        "print('x2', x2.grad.item())\n",
        "print('w2', w2.grad.item())\n",
        "print('x1', x1.grad.item())\n",
        "print('w1', w1.grad.item())\n",
        "\n",
        "\n",
        "\n"
      ],
      "metadata": {
        "id": "U_CRbZpFNkPX",
        "outputId": "7efdbb3b-d772-44a3-c0f0-9af84d3906fd",
        "colab": {
          "base_uri": "https://localhost:8080/"
        }
      },
      "execution_count": null,
      "outputs": [
        {
          "output_type": "stream",
          "name": "stdout",
          "text": [
            "0.7071066904050358\n",
            "---\n",
            "x2 0.5000001283844369\n",
            "w2 0.0\n",
            "x1 -1.5000003851533106\n",
            "w1 1.0000002567688737\n"
          ]
        }
      ]
    },
    {
      "cell_type": "code",
      "source": [
        "import random\n",
        "\n",
        "class Neuron:\n",
        "  def __init__(self, nin):\n",
        "    self.w = [Value(random.uniform(-1,1)) for _ in range(nin)]\n",
        "    self.b = Value(random.uniform(-1,1))\n",
        "\n",
        "  def __call__(self, x):\n",
        "    # w*x + b\n",
        "    act = sum((wi*xi for wi, xi in zip(self.w, x)), self.b)\n",
        "    out = act.tanh()\n",
        "    return out\n",
        "  def parameters(self):\n",
        "    return self.w + [self.b]\n",
        "\n",
        "class Layer:\n",
        "  def __init__(self, nin, nout):\n",
        "    self.neurons = [Neuron(nin) for _ in range(nout)]\n",
        "\n",
        "  def __call__(self, x):\n",
        "    outs = [n(x) for n in self.neurons]\n",
        "    return outs[0] if len(outs) == 1 else outs\n",
        "\n",
        "  def parameters(self):\n",
        "    return [p for neuron in self.neurons for p in neuron.parameters()] \n",
        "\n",
        "class MLP:\n",
        "  def __init__(self, nin, nouts):\n",
        "    sz = [nin] + nouts\n",
        "    self.layers = [Layer(sz[i], sz[i+1]) for i in range(len(nouts))]\n",
        "\n",
        "  def __call__(self, x):\n",
        "    for layer in self.layers:\n",
        "      x = layer(x)\n",
        "    return x  \n",
        "\n",
        "  def parameters(self):\n",
        "    return [\n",
        "        p for layer in self.layers \n",
        "        for p in layer.parameters() \n",
        "    ]\n",
        "\n",
        "x =  [2.0, 3.0, -1.0]\n",
        "mlp = MLP(3, [4,4,1])\n",
        "mlp(x)"
      ],
      "metadata": {
        "id": "VgfBEe1seRjn",
        "outputId": "02e725a5-b145-48d0-d15e-a55415444e16",
        "colab": {
          "base_uri": "https://localhost:8080/"
        }
      },
      "execution_count": 99,
      "outputs": [
        {
          "output_type": "execute_result",
          "data": {
            "text/plain": [
              "Value(data=-0.6163446759390522)"
            ]
          },
          "metadata": {},
          "execution_count": 99
        }
      ]
    },
    {
      "cell_type": "code",
      "source": [
        "xs = [\n",
        "    [2.0,3.0,-1.0],\n",
        "    [3.0,-1.0,0.5],\n",
        "    [0.5,1.0,1.0],\n",
        "    [1.0, 1.0, 1.0],\n",
        "  ]\n",
        "ys = [1.0, -1.0, -1.0, 1.0] # desired target \n",
        "\n"
      ],
      "metadata": {
        "colab": {
          "base_uri": "https://localhost:8080/"
        },
        "id": "R1McaRQSmr8H",
        "outputId": "cf6eea24-2b76-4d6e-c08f-e66de8a92bd4"
      },
      "execution_count": 85,
      "outputs": [
        {
          "output_type": "execute_result",
          "data": {
            "text/plain": [
              "[Value(data=-0.11948662583495809),\n",
              " Value(data=-0.7620160031123631),\n",
              " Value(data=-0.7711353616084979),\n",
              " Value(data=-0.745257214868913)]"
            ]
          },
          "metadata": {},
          "execution_count": 85
        }
      ]
    },
    {
      "cell_type": "code",
      "source": [
        "for k in range(20):\n",
        "  # forward pass\n",
        "  ypred = [mlp(x) for x in xs]\n",
        "  loss = sum([(yout -ygt)**2 for ygt, yout in zip(ys, ypred)])\n",
        "\n",
        "  # backward pass\n",
        "  for p in mlp.parameters():\n",
        "    p.grad = 0.0 \n",
        "  loss.backward()\n",
        "\n",
        "  # gradient descent\n",
        "  for p in mlp.parameters():\n",
        "    p.data += -0.05 * p.grad\n",
        "  \n",
        "  print(k, loss.data)\n",
        "\n",
        "ypred\n",
        "  \n"
      ],
      "metadata": {
        "colab": {
          "base_uri": "https://localhost:8080/"
        },
        "id": "cUsZVw9atW8l",
        "outputId": "2b27a226-2089-4453-9bf7-e3f014311059"
      },
      "execution_count": 123,
      "outputs": [
        {
          "output_type": "stream",
          "name": "stdout",
          "text": [
            "0 0.0025445658623261917\n",
            "1 0.0025372422920966536\n",
            "2 0.0025299584275108146\n",
            "3 0.002522713953946784\n",
            "4 0.0025155085600548762\n",
            "5 0.0025083419377156203\n",
            "6 0.002501213781998235\n",
            "7 0.0024941237911198836\n",
            "8 0.002487071666405525\n",
            "9 0.002480057112248292\n",
            "10 0.002473079836070504\n",
            "11 0.002466139548285458\n",
            "12 0.0024592359622593995\n",
            "13 0.0024523687942744608\n",
            "14 0.0024455377634918884\n",
            "15 0.002438742591915997\n",
            "16 0.0024319830043585764\n",
            "17 0.00242525872840373\n",
            "18 0.002418569494373516\n",
            "19 0.00241191503529381\n"
          ]
        },
        {
          "output_type": "execute_result",
          "data": {
            "text/plain": [
              "[Value(data=0.9960703093430953),\n",
              " Value(data=-0.9808403283873499),\n",
              " Value(data=-0.9691490453352879),\n",
              " Value(data=0.9671732099253348)]"
            ]
          },
          "metadata": {},
          "execution_count": 123
        }
      ]
    }
  ]
}